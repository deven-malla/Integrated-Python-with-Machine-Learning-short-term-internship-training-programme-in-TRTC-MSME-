{
 "cells": [
  {
   "cell_type": "code",
   "execution_count": 27,
   "id": "00c1b898-4765-4998-b5da-2e698033655b",
   "metadata": {},
   "outputs": [
    {
     "name": "stdout",
     "output_type": "stream",
     "text": [
      "Percentile of students who scored above 60 marks: 57.1%\n"
     ]
    }
   ],
   "source": [
    "marks = [60, 73, 47, 39, 71, 89, 94, 86, 76, 77, 98, 54, 57, 43]\n",
    "\n",
    "above_60_count = 0\n",
    "for mark in marks:\n",
    "    if mark > 60:\n",
    "        above_60_count += 1\n",
    "\n",
    "total_students = len(marks)\n",
    "\n",
    "percentile = (above_60_count / total_students) * 100\n",
    "\n",
    "print(f\"Percentile of students who scored above 60 marks: {percentile:.1f}%\")"
   ]
  },
  {
   "cell_type": "code",
   "execution_count": 29,
   "id": "622c17f7-c88e-410f-b986-67d4f862b43b",
   "metadata": {},
   "outputs": [
    {
     "name": "stdout",
     "output_type": "stream",
     "text": [
      "43.0\n"
     ]
    }
   ],
   "source": [
    "import numpy\n",
    "\n",
    "ages = [5,31,43,48,50,41,7,11,15,39,80,82,32,2,8,6,25,36,27,61,31]\n",
    "\n",
    "x = numpy.percentile(ages, 75)\n",
    "\n",
    "print(x)"
   ]
  },
  {
   "cell_type": "code",
   "execution_count": null,
   "id": "f7d82877-62c3-478e-a650-0feb5d179828",
   "metadata": {},
   "outputs": [],
   "source": []
  }
 ],
 "metadata": {
  "kernelspec": {
   "display_name": "Python 3 (ipykernel)",
   "language": "python",
   "name": "python3"
  },
  "language_info": {
   "codemirror_mode": {
    "name": "ipython",
    "version": 3
   },
   "file_extension": ".py",
   "mimetype": "text/x-python",
   "name": "python",
   "nbconvert_exporter": "python",
   "pygments_lexer": "ipython3",
   "version": "3.11.7"
  }
 },
 "nbformat": 4,
 "nbformat_minor": 5
}
